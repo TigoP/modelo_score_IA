{
 "cells": [
  {
   "cell_type": "code",
   "execution_count": null,
   "metadata": {},
   "outputs": [],
   "source": [
    "# !pip install pandas numpy scikit-learn (este passo é importante instalar para importar as IA)\n",
    "\n",
    "# Passo 1 - importar base de dados\n",
    "import pandas as pd\n",
    "\n",
    "tabela = pd.read_csv(\"clientes.csv\")\n",
    "display(tabela)"
   ]
  },
  {
   "cell_type": "code",
   "execution_count": null,
   "metadata": {},
   "outputs": [],
   "source": [
    "# Passo 2 - Preparar a base de dados para receber a IA\n",
    "from sklearn.preprocessing import LabelEncoder\n",
    "\n",
    "codificador = LabelEncoder()\n",
    "\n",
    "tabela[\"profissao\"] = codificador.fit_transform(tabela[\"profissao\"])\n",
    "tabela[\"mix_credito\"] = codificador.fit_transform(tabela[\"mix_credito\"])\n",
    "tabela[\"comportamento_pagamento\"] = codificador.fit_transform(tabela[\"comportamento_pagamento\"])\n",
    "\n",
    "display(tabela.info()) # é feito para visualizar os tipos dos campos como int, float, object, etc\n",
    "\n",
    "y = tabela[\"score_credito\"] # coluna Y é quem vc quer prever \n",
    "x = tabela.drop(columns=[\"id_cliente\", \"score_credito\"]) # coluna X são quem serão usados para coletar dados para prever na Y\n",
    "\n",
    "from sklearn.model_selection import train_test_split # é uma biblioteca que faz treinos nas IA\n",
    "\n",
    "x_treino, x_teste, y_treino, y_teste = train_test_split(x, y)"
   ]
  },
  {
   "cell_type": "code",
   "execution_count": null,
   "metadata": {},
   "outputs": [],
   "source": [
    "# Passo 3 - Criar o modelo de IA -> Prever o Score de crédito: Bom, ok, Ruim\n",
    "# Para criar IA sempre são 3  passos ( importar, criar, treinar)\n",
    "#importar\n",
    "from sklearn.ensemble import RandomForestClassifier\n",
    "from sklearn.neighbors import KNeighborsClassifier\n",
    "#knn = knowm nearest neighbors visinhos proximos conhecidos\n",
    "\n",
    "#criar\n",
    "modelo_arvore_decisao = RandomForestClassifier()\n",
    "modelo_knn = KNeighborsClassifier() \n",
    "\n",
    "#treinar\n",
    "modelo_arvore_decisao.fit(x_treino, y_treino)\n",
    "modelo_knn.fit(x_treino, y_treino)"
   ]
  },
  {
   "cell_type": "code",
   "execution_count": null,
   "metadata": {},
   "outputs": [],
   "source": [
    "# Passo 4 - Escolher a melhor IA\n",
    "previsao_arvore_decisao = modelo_arvore_decisao.predict(x_teste)\n",
    "previsao_knn = modelo_knn.predict(x_teste)\n",
    "\n",
    "#acurácia = accuracy\n",
    "from sklearn.metrics import accuracy_score\n",
    "\n",
    "display(accuracy_score(y_teste, previsao_arvore_decisao))\n",
    "display(accuracy_score(y_teste, previsao_knn))"
   ]
  },
  {
   "cell_type": "code",
   "execution_count": null,
   "metadata": {},
   "outputs": [],
   "source": [
    "# Passo 5 - Usar a IA para definir o score de credito dos clientes\n",
    "novos_clientes = pd.read_csv(\"novos_clientes.csv\")\n",
    "display(novos_clientes)\n",
    "\n",
    "novos_clientes[\"profissao\"] = codificador.fit_transform(novos_clientes[\"profissao\"])\n",
    "novos_clientes[\"mix_credito\"] = codificador.fit_transform(novos_clientes[\"mix_credito\"])\n",
    "novos_clientes[\"comportamento_pagamento\"] = codificador.fit_transform(novos_clientes[\"comportamento_pagamento\"])\n",
    "\n",
    "previsao = modelo_arvore_decisao.predict(novos_clientes)\n",
    "display(previsao)"
   ]
  }
 ],
 "metadata": {
  "kernelspec": {
   "display_name": "Python 3",
   "language": "python",
   "name": "python3"
  },
  "language_info": {
   "codemirror_mode": {
    "name": "ipython",
    "version": 3
   },
   "file_extension": ".py",
   "mimetype": "text/x-python",
   "name": "python",
   "nbconvert_exporter": "python",
   "pygments_lexer": "ipython3",
   "version": "3.12.3"
  }
 },
 "nbformat": 4,
 "nbformat_minor": 2
}
